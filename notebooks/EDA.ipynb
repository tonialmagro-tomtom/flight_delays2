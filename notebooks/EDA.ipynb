{
 "cells": [
  {
   "cell_type": "code",
   "execution_count": null,
   "id": "9d9c23e8",
   "metadata": {},
   "outputs": [],
   "source": [
    "catalog.list()"
   ]
  },
  {
   "cell_type": "code",
   "execution_count": null,
   "id": "e2d216f7",
   "metadata": {},
   "outputs": [],
   "source": [
    "df_raw = catalog.load('flights')"
   ]
  },
  {
   "cell_type": "code",
   "execution_count": null,
   "id": "30f275e0",
   "metadata": {},
   "outputs": [],
   "source": [
    "df_raw.printSchema()"
   ]
  },
  {
   "cell_type": "code",
   "execution_count": null,
   "id": "e5a885e8",
   "metadata": {},
   "outputs": [],
   "source": [
    "df = catalog.load('flights_sel')"
   ]
  },
  {
   "cell_type": "code",
   "execution_count": null,
   "id": "20555020",
   "metadata": {},
   "outputs": [],
   "source": [
    "df.show()"
   ]
  },
  {
   "cell_type": "code",
   "execution_count": null,
   "id": "1c19ccb5",
   "metadata": {},
   "outputs": [],
   "source": [
    "l_cols = ['DepDel15','DepTime','Origin','Dest','DayOfWeek','Dest','Reporting_Airline']"
   ]
  },
  {
   "cell_type": "code",
   "execution_count": null,
   "id": "64e10a7a",
   "metadata": {},
   "outputs": [],
   "source": [
    "df.select(l_cols)"
   ]
  },
  {
   "cell_type": "code",
   "execution_count": null,
   "id": "79f1edfb",
   "metadata": {},
   "outputs": [],
   "source": [
    "df = catalog.load('flights_features')"
   ]
  },
  {
   "cell_type": "code",
   "execution_count": null,
   "id": "7b59482c",
   "metadata": {},
   "outputs": [],
   "source": [
    "df.show(10)"
   ]
  },
  {
   "cell_type": "code",
   "execution_count": null,
   "id": "118f3f06",
   "metadata": {},
   "outputs": [],
   "source": [
    "df.count()"
   ]
  },
  {
   "cell_type": "code",
   "execution_count": null,
   "id": "f602cd47",
   "metadata": {},
   "outputs": [],
   "source": [
    "df.columns"
   ]
  },
  {
   "cell_type": "code",
   "execution_count": null,
   "id": "c2d25772",
   "metadata": {},
   "outputs": [],
   "source": [
    "df[['FlightDate','AirTime']]"
   ]
  },
  {
   "cell_type": "code",
   "execution_count": null,
   "id": "e0fc4edf",
   "metadata": {},
   "outputs": [],
   "source": []
  }
 ],
 "metadata": {
  "kernelspec": {
   "display_name": "Kedro (flight_delays)",
   "language": "python",
   "name": "kedro_flight_delays"
  },
  "language_info": {
   "codemirror_mode": {
    "name": "ipython",
    "version": 3
   },
   "file_extension": ".py",
   "mimetype": "text/x-python",
   "name": "python",
   "nbconvert_exporter": "python",
   "pygments_lexer": "ipython3",
   "version": "3.7.15"
  }
 },
 "nbformat": 4,
 "nbformat_minor": 5
}
